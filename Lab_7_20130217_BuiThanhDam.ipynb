{
  "nbformat": 4,
  "nbformat_minor": 0,
  "metadata": {
    "colab": {
      "provenance": [],
      "include_colab_link": true
    },
    "kernelspec": {
      "name": "python3",
      "display_name": "Python 3"
    },
    "language_info": {
      "name": "python"
    }
  },
  "cells": [
    {
      "cell_type": "markdown",
      "metadata": {
        "id": "view-in-github",
        "colab_type": "text"
      },
      "source": [
        "<a href=\"https://colab.research.google.com/github/BuiThanhDam02/ML2023/blob/main/Lab_7_20130217_BuiThanhDam.ipynb\" target=\"_parent\"><img src=\"https://colab.research.google.com/assets/colab-badge.svg\" alt=\"Open In Colab\"/></a>"
      ]
    },
    {
      "cell_type": "markdown",
      "source": [
        "# This lab deals with **cross validation** for some classification algorithms and **clustering methods**. \n",
        "\n",
        "*   **Deadline: 23:59, 10/4/2023**\n",
        "\n"
      ],
      "metadata": {
        "id": "LMzehe0sy5wr"
      }
    },
    {
      "cell_type": "markdown",
      "source": [
        "# Import libraries"
      ],
      "metadata": {
        "id": "H4nJmxp9zGX4"
      }
    },
    {
      "cell_type": "code",
      "execution_count": null,
      "metadata": {
        "id": "DoVWQ8AEyc-C"
      },
      "outputs": [],
      "source": [
        "# code\n",
        "from sklearn.model_selection import cross_validate\n",
        "from sklearn.model_selection import KFold\n",
        "from sklearn.model_selection import cross_val_score\n",
        "from sklearn.metrics import accuracy_score ,make_scorer,precision_score\n",
        "from sklearn import metrics\n",
        "import numpy as np\n",
        "from scipy.stats import mode\n",
        "import pandas as pd\n",
        "from prettytable import  PrettyTable\n",
        "from sklearn import datasets\n",
        "from sklearn.neighbors import KNeighborsClassifier\n",
        "from sklearn import svm\n",
        "from sklearn.feature_selection import SelectKBest, chi2\n",
        "from sklearn.feature_selection import SelectFromModel\n",
        "from sklearn.ensemble import RandomForestClassifier\n",
        "from sklearn.model_selection import train_test_split\n",
        "from sklearn.naive_bayes import GaussianNB\n",
        "from sklearn.cluster import KMeans\n",
        "from sklearn.cluster import AgglomerativeClustering\n",
        "\n",
        "\n",
        "from matplotlib import pyplot as plt\n",
        "from scipy.cluster.hierarchy import dendrogram, linkage\n",
        "import scipy.cluster.hierarchy as shc"
      ]
    },
    {
      "cell_type": "markdown",
      "source": [
        "#Task 1. With **iris** dataset\n",
        "*  1.1. Apply **SVM** algorithm with cross validation\n"
      ],
      "metadata": {
        "id": "x_dG9SA5OhGT"
      }
    },
    {
      "cell_type": "code",
      "source": [
        "#code\n",
        "dataset = datasets.load_iris()\n",
        "Xtrain = dataset['data']\n",
        "ytrain = dataset['target']\n",
        "clf = svm.SVC(kernel=\"sigmoid\",random_state=0)\n",
        "clf.fit(Xtrain, ytrain)\n",
        "x_train, x_test, y_train, y_test = train_test_split(Xtrain,ytrain, test_size = 0.3, random_state = 0)\n",
        "\n",
        "\n",
        "scores = cross_validate(clf,x_train,y_train,scoring='accuracy',cv=10)\n",
        "print(sorted(scores.keys()))\n",
        "print(np.mean(scores['test_score']))\n",
        "\n"
      ],
      "metadata": {
        "id": "62jExOZ952fF",
        "colab": {
          "base_uri": "https://localhost:8080/"
        },
        "outputId": "f5aec6a9-f32c-4bf9-fc6c-a3fbc761bac2"
      },
      "execution_count": null,
      "outputs": [
        {
          "output_type": "stream",
          "name": "stdout",
          "text": [
            "['fit_time', 'score_time', 'test_score']\n",
            "0.37272727272727274\n"
          ]
        }
      ]
    },
    {
      "cell_type": "code",
      "source": [
        "\n",
        "cv= KFold(n_splits=10, random_state=1, shuffle=True)\n",
        "# create model\n",
        "model = svm.SVC (kernel='rbf', random_state=0)\n",
        "# evaluate model\n",
        "scores = cross_val_score(model, x_train, y_train, scoring='accuracy', cv=cv)\n",
        "\n",
        "print(scores.mean())"
      ],
      "metadata": {
        "colab": {
          "base_uri": "https://localhost:8080/"
        },
        "id": "mfHyf57Q5TiC",
        "outputId": "e5032de5-93a2-43b2-c945-67b1bfc921de"
      },
      "execution_count": null,
      "outputs": [
        {
          "output_type": "stream",
          "name": "stdout",
          "text": [
            "0.9627272727272727\n"
          ]
        }
      ]
    },
    {
      "cell_type": "markdown",
      "source": [
        "*  1.2 Apply **feature selection** to the dataset and then use **RandomForest** algorithm with cross validation "
      ],
      "metadata": {
        "id": "2g--8cng53sY"
      }
    },
    {
      "cell_type": "code",
      "source": [
        "#code\n",
        "\n",
        "\n",
        "rfc=RandomForestClassifier(n_estimators=100)\n",
        "\n",
        "sfm = SelectFromModel(rfc, threshold=0.01)\n",
        "Xtrain_new = sfm.fit_transform(Xtrain, ytrain)\n",
        "rfc.fit(Xtrain_new, ytrain)\n",
        "x_train, x_test, y_train, y_test = train_test_split(Xtrain_new,ytrain, test_size = 0.3, random_state = 0)\n",
        "\n",
        "scores = cross_validate(rfc,x_train,y_train,scoring='accuracy',cv=10)\n",
        "\n",
        "print(sorted(scores.keys()))\n",
        "print(np.mean(scores['test_score']))\n",
        "# rfc.fit(Xtrain_new,ytrain)"
      ],
      "metadata": {
        "id": "fX0_kItYPism",
        "colab": {
          "base_uri": "https://localhost:8080/"
        },
        "outputId": "bf477ece-08ce-4d75-919d-d21f61828aa3"
      },
      "execution_count": null,
      "outputs": [
        {
          "output_type": "stream",
          "name": "stdout",
          "text": [
            "['fit_time', 'score_time', 'test_score']\n",
            "0.9689650793650794\n"
          ]
        }
      ]
    },
    {
      "cell_type": "code",
      "source": [
        "\n",
        "cv= KFold(n_splits=10, random_state=1, shuffle=True)\n",
        "\n",
        "# evaluate model\n",
        "scores = cross_val_score(rfc, x_train, y_train, scoring='accuracy', cv=cv)\n",
        "\n",
        "print(scores.mean())"
      ],
      "metadata": {
        "colab": {
          "base_uri": "https://localhost:8080/"
        },
        "id": "rCPHofFd516b",
        "outputId": "c16f80c4-b240-4dc6-b01a-22e1e748b3b6"
      },
      "execution_count": null,
      "outputs": [
        {
          "output_type": "stream",
          "name": "stdout",
          "text": [
            "0.9518181818181818\n"
          ]
        }
      ]
    },
    {
      "cell_type": "markdown",
      "source": [
        "#Task 2. With mnist dataset: \n",
        "*   2.1. Apply **K-Means** algorithm using k=10, "
      ],
      "metadata": {
        "id": "kNv07ARGzOUm"
      }
    },
    {
      "cell_type": "code",
      "source": [
        "# code\n",
        "dataset = datasets.load_digits()\n",
        "Xtrain = dataset['data']\n",
        "ytrain = dataset['target']\n",
        "\n",
        "\n",
        "kmeans = KMeans(n_clusters = 10, random_state = 0)\n",
        "kmeans.fit(dataset.data)\n",
        "clusters = kmeans.predict(dataset.data)\n",
        "# kmeans.cluster_centers_.shape\n",
        "\n",
        "labels = np.zeros_like(clusters)\n",
        "for i in range(10):\n",
        " mask = (clusters == i)\n",
        " #print(mask)\n",
        " labels[mask] = mode(dataset.target[mask])[0]\n",
        " #print(labels[mask])\n",
        "accKM = accuracy_score(dataset.target, labels)\n",
        "preKM= metrics.precision_score(dataset.target, labels,average='macro')\n",
        "\n",
        "recallKM= metrics.recall_score(dataset.target, labels,average='macro')\n",
        "f1KM = metrics.f1_score(dataset.target, labels,average='macro') \n",
        "accKM\n"
      ],
      "metadata": {
        "id": "sOsg77IBzEyo",
        "colab": {
          "base_uri": "https://localhost:8080/"
        },
        "outputId": "a29a9cff-49ed-4be8-fe54-eaa562d09e08"
      },
      "execution_count": null,
      "outputs": [
        {
          "output_type": "stream",
          "name": "stderr",
          "text": [
            "/usr/local/lib/python3.9/dist-packages/sklearn/cluster/_kmeans.py:870: FutureWarning: The default value of `n_init` will change from 10 to 'auto' in 1.4. Set the value of `n_init` explicitly to suppress the warning\n",
            "  warnings.warn(\n",
            "<ipython-input-2-4737323bb15d>:16: FutureWarning: Unlike other reduction functions (e.g. `skew`, `kurtosis`), the default behavior of `mode` typically preserves the axis it acts along. In SciPy 1.11.0, this behavior will change: the default value of `keepdims` will become False, the `axis` over which the statistic is taken will be eliminated, and the value None will no longer be accepted. Set `keepdims` to True or False to avoid this warning.\n",
            "  labels[mask] = mode(dataset.target[mask])[0]\n"
          ]
        },
        {
          "output_type": "execute_result",
          "data": {
            "text/plain": [
              "0.7935447968836951"
            ]
          },
          "metadata": {},
          "execution_count": 2
        }
      ]
    },
    {
      "cell_type": "markdown",
      "source": [
        "*   2.2. Compare the obtained result with with other classification algorithms such as **Randomforest**, **kNN**, and **Naïve Bayes** in terms of accuracy, precision, recall, f1 using cross validation. \n"
      ],
      "metadata": {
        "id": "pnoVB8J4vV36"
      }
    },
    {
      "cell_type": "code",
      "source": [
        "# Random Forest\n",
        "\n",
        "rfc=RandomForestClassifier(n_estimators=100)\n",
        "\n",
        "rfc.fit(Xtrain,ytrain)\n",
        "x_train, x_test, y_train, y_test = train_test_split(Xtrain,ytrain, test_size = 0.3, random_state = 0)\n",
        "\n",
        "cv= KFold(n_splits=10, random_state=1, shuffle=True)\n",
        "\n",
        "# evaluate model\n",
        "accRFC = cross_val_score(rfc, x_train, y_train, scoring='accuracy', cv=cv).mean()\n",
        "\n",
        "\n",
        "\n",
        "\n",
        "# y_predRFC = rfc.predict(x_test)\n",
        "\n",
        "preRFC= cross_val_score(rfc, x_train, y_train, scoring='precision_macro', cv=cv).mean()\n",
        "\n",
        "recallRFC= cross_val_score(rfc, x_train, y_train, scoring='recall_macro', cv=cv).mean()\n",
        "\n",
        "f1RFC = cross_val_score(rfc, x_train, y_train, scoring='f1_macro', cv=cv).mean()\n",
        "\n",
        "\n",
        "# GaussianNB Naive Bayes\n",
        "\n",
        "nb = GaussianNB()\n",
        "nb.fit(Xtrain, ytrain)\n",
        "\n",
        "\n",
        "y_predNB = nb.predict(x_test)\n",
        "\n",
        "scores = cross_val_score(nb, x_train, y_train, scoring='accuracy', cv=cv)\n",
        "\n",
        "accNB =    scores.mean()\n",
        "\n",
        "preNB= cross_val_score(nb, x_train, y_train, scoring='precision_macro', cv=cv).mean()\n",
        "\n",
        "recallNB=cross_val_score(nb, x_train, y_train, scoring='recall_macro', cv=cv).mean()\n",
        "f1NB =cross_val_score(nb, x_train, y_train, scoring='f1_macro', cv=cv).mean()\n",
        "\n",
        "#Knn\n",
        "knn = KNeighborsClassifier(n_neighbors=4)\n",
        "knn.fit(Xtrain, ytrain)\n",
        "y_predKnnBest = knn.predict(x_test)\n",
        "    \n",
        "scores = cross_val_score(knn, x_train, y_train, scoring='accuracy', cv=cv)\n",
        "\n",
        "accKnn =  scores.mean()\n",
        "\n",
        "preKnn =  cross_val_score(knn, x_train, y_train, scoring='precision_macro', cv=cv).mean()\n",
        "recallKnn=  cross_val_score(knn, x_train, y_train, scoring='recall_macro', cv=cv).mean()\n",
        "f1Knn = cross_val_score(knn, x_train, y_train, scoring='f1_macro', cv=cv).mean()\n",
        "\n",
        "#Table\n",
        "t3 = PrettyTable(['Name Metric measure','KMean','Random Forest',\"Naive Bayes (Gaussian)\",\"Knn\"])\n",
        "t3.add_row(['Accuracy',accKM,accRFC,accNB,accKnn])\n",
        "t3.add_row(['Precision Score',preKM,preRFC,preNB,preKnn])\n",
        "t3.add_row(['Recall Score',recallKM,recallRFC,recallNB,recallKnn])\n",
        "t3.add_row(['F1',f1KM,f1RFC,f1NB,f1Knn])\n",
        "\n",
        "print(t3)"
      ],
      "metadata": {
        "id": "-ZTSvsJdvYqI",
        "colab": {
          "base_uri": "https://localhost:8080/"
        },
        "outputId": "d0cd41f5-795e-4e9e-93e0-e89b7b9a4405"
      },
      "execution_count": null,
      "outputs": [
        {
          "output_type": "stream",
          "name": "stdout",
          "text": [
            "+---------------------+--------------------+--------------------+------------------------+--------------------+\n",
            "| Name Metric measure |       KMean        |   Random Forest    | Naive Bayes (Gaussian) |        Knn         |\n",
            "+---------------------+--------------------+--------------------+------------------------+--------------------+\n",
            "|       Accuracy      | 0.7935447968836951 | 0.9689714285714285 |   0.8488444444444445   | 0.9824952380952382 |\n",
            "|   Precision Score   | 0.8049510946090495 | 0.966558411359882  |   0.8631844675792044   | 0.9813171648612824 |\n",
            "|     Recall Score    | 0.7935735538874538 | 0.971876389992876  |   0.8497928746949646   | 0.9832475996225994 |\n",
            "|          F1         | 0.7899801068577756 | 0.9709921136764935 |   0.8411400564037403   | 0.9810364517430715 |\n",
            "+---------------------+--------------------+--------------------+------------------------+--------------------+\n"
          ]
        }
      ]
    },
    {
      "cell_type": "markdown",
      "source": [
        "*   2.3. From the obtained results, **which approach is better** for this problem: Supervised learning or Unsupervised learning?"
      ],
      "metadata": {
        "id": "uyey-ndXvZlb"
      }
    },
    {
      "cell_type": "code",
      "source": [
        "#code\n",
        "# Supervised learning is better than Unsupervised learning because Supervised learning have score metric measure higher than Supervised learning in 4 measure accuracy, precision,recall,f1 ."
      ],
      "metadata": {
        "id": "Qzh_D-rgvbv9"
      },
      "execution_count": null,
      "outputs": []
    },
    {
      "cell_type": "markdown",
      "source": [
        "2.4. Apply **AgglomerativeClustering** algorithm to mnist dataset using the number of clusters is 10"
      ],
      "metadata": {
        "id": "ol1U_T_NvcqV"
      }
    },
    {
      "cell_type": "code",
      "source": [
        "dataset = datasets.load_digits()\n",
        "Xtrain = dataset['data']\n",
        "ytrain = dataset['target']\n",
        "\n",
        "\n",
        "\n",
        "cluster = AgglomerativeClustering(n_clusters=10, affinity='euclidean', linkage='ward')\n",
        "x_train, x_test, y_train, y_test = train_test_split(Xtrain,ytrain, test_size = 0.3, random_state = 1)\n",
        "y_pred= cluster.fit_predict(x_test)\n",
        "# get clustering labels\n",
        "cluster.labels_\n"
      ],
      "metadata": {
        "id": "E8Qp0_Lq280H",
        "colab": {
          "base_uri": "https://localhost:8080/"
        },
        "outputId": "d1e9837d-dc76-4bc0-e2e7-26ac759bb880"
      },
      "execution_count": null,
      "outputs": [
        {
          "output_type": "stream",
          "name": "stderr",
          "text": [
            "/usr/local/lib/python3.9/dist-packages/sklearn/cluster/_agglomerative.py:983: FutureWarning: Attribute `affinity` was deprecated in version 1.2 and will be removed in 1.4. Use `metric` instead\n",
            "  warnings.warn(\n"
          ]
        },
        {
          "output_type": "execute_result",
          "data": {
            "text/plain": [
              "array([4, 0, 7, 2, 8, 7, 5, 4, 0, 6, 3, 1, 2, 3, 6, 5, 8, 9, 2, 6, 2, 4,\n",
              "       4, 5, 7, 2, 5, 8, 9, 2, 0, 3, 4, 9, 1, 3, 3, 8, 4, 7, 2, 3, 7, 7,\n",
              "       3, 2, 1, 2, 6, 9, 6, 9, 6, 7, 6, 2, 7, 0, 0, 0, 1, 4, 2, 7, 0, 4,\n",
              "       0, 9, 9, 6, 7, 9, 2, 6, 0, 6, 1, 8, 2, 9, 4, 0, 9, 6, 1, 0, 0, 1,\n",
              "       0, 1, 1, 1, 1, 2, 7, 4, 4, 2, 6, 1, 9, 3, 3, 9, 1, 7, 1, 3, 3, 1,\n",
              "       9, 1, 3, 8, 4, 3, 1, 1, 7, 6, 4, 0, 6, 6, 2, 5, 2, 5, 5, 4, 2, 0,\n",
              "       5, 9, 3, 9, 2, 1, 4, 0, 9, 6, 2, 3, 0, 7, 5, 7, 5, 9, 2, 5, 0, 5,\n",
              "       1, 1, 1, 9, 7, 2, 5, 0, 5, 6, 8, 7, 5, 7, 5, 8, 7, 8, 1, 0, 8, 1,\n",
              "       9, 4, 8, 7, 2, 5, 1, 3, 9, 0, 9, 6, 5, 9, 9, 2, 6, 2, 1, 2, 5, 4,\n",
              "       5, 4, 8, 7, 9, 0, 7, 3, 3, 3, 7, 8, 1, 5, 3, 7, 8, 0, 3, 3, 1, 1,\n",
              "       3, 1, 7, 4, 2, 2, 7, 9, 9, 3, 5, 9, 9, 1, 3, 1, 5, 3, 7, 6, 1, 1,\n",
              "       2, 3, 1, 5, 2, 5, 1, 2, 0, 3, 9, 6, 7, 5, 6, 3, 0, 9, 5, 9, 1, 6,\n",
              "       7, 6, 6, 3, 2, 2, 4, 0, 1, 2, 7, 3, 7, 6, 6, 7, 8, 7, 5, 6, 4, 3,\n",
              "       0, 7, 3, 5, 7, 4, 4, 1, 7, 3, 0, 5, 4, 7, 0, 7, 3, 1, 6, 2, 8, 2,\n",
              "       7, 5, 5, 4, 7, 1, 1, 5, 3, 3, 2, 0, 8, 2, 5, 6, 5, 1, 3, 6, 2, 4,\n",
              "       9, 2, 4, 4, 5, 3, 4, 0, 1, 6, 4, 2, 0, 0, 5, 3, 3, 3, 0, 7, 7, 6,\n",
              "       3, 3, 7, 6, 3, 6, 1, 0, 6, 8, 5, 6, 1, 5, 7, 7, 0, 5, 2, 4, 3, 1,\n",
              "       0, 4, 0, 3, 4, 2, 2, 7, 5, 3, 9, 1, 3, 1, 3, 4, 2, 7, 4, 9, 0, 3,\n",
              "       4, 4, 4, 3, 0, 9, 7, 7, 2, 9, 4, 2, 3, 3, 2, 4, 7, 6, 0, 8, 0, 2,\n",
              "       9, 5, 0, 6, 3, 7, 0, 3, 1, 6, 0, 7, 6, 9, 6, 1, 0, 3, 7, 3, 2, 4,\n",
              "       5, 3, 6, 0, 2, 3, 9, 2, 0, 9, 1, 5, 5, 2, 4, 7, 4, 6, 0, 3, 0, 6,\n",
              "       0, 1, 0, 9, 9, 9, 0, 4, 3, 2, 5, 1, 9, 5, 1, 0, 1, 5, 6, 0, 6, 8,\n",
              "       3, 2, 3, 0, 7, 1, 5, 3, 9, 5, 2, 9, 5, 6, 2, 3, 6, 8, 1, 4, 1, 7,\n",
              "       2, 1, 7, 9, 1, 2, 6, 0, 3, 3, 6, 4, 9, 9, 1, 4, 6, 3, 6, 0, 0, 1,\n",
              "       3, 0, 6, 2, 2, 6, 7, 1, 2, 0, 4, 7])"
            ]
          },
          "metadata": {},
          "execution_count": 14
        }
      ]
    },
    {
      "cell_type": "code",
      "source": [
        "acc =  accuracy_score(y_test, y_pred)\n",
        "pre= metrics.precision_score(y_test, y_pred,average='macro')\n",
        "\n",
        "recall= metrics.recall_score(y_test, y_pred,average='macro')\n",
        "f1 = metrics.f1_score(y_test, y_pred,average='macro') \n",
        "print(\"Accuracy\")\n",
        "print(acc)\n",
        "print(\"Precision\")\n",
        "print(pre)\n",
        "print(\"Recall\")\n",
        "print(recall)\n",
        "print(\"F1\")\n",
        "print(f1)"
      ],
      "metadata": {
        "colab": {
          "base_uri": "https://localhost:8080/"
        },
        "id": "AVKy992O3yq1",
        "outputId": "49ddca50-3b75-44ff-c572-b2a11326dc49"
      },
      "execution_count": null,
      "outputs": [
        {
          "output_type": "stream",
          "name": "stdout",
          "text": [
            "Accuracy\n",
            "0.025925925925925925\n",
            "Precision\n",
            "0.02160714285714286\n",
            "Recall\n",
            "0.027614795918367345\n",
            "F1\n",
            "0.024224012679963013\n"
          ]
        }
      ]
    },
    {
      "cell_type": "markdown",
      "source": [
        "#Task 3. \n",
        "For given dataset (shopping-data.csv) including 5 attributes: **CustomerID**, **Genre**, **Age**, **Annual Income**, and **Spending Score**.\n",
        "*   3.1. Using the **scipy library** to create the dendrograms for the given dataset (remember drop categorical attributes: **CustomerID**, **Genre**)\n",
        "\n",
        "\n",
        "\n"
      ],
      "metadata": {
        "id": "b52OPWPD2afi"
      }
    },
    {
      "cell_type": "code",
      "source": [
        "#code\n",
        "\n",
        "from google.colab import drive\n",
        "drive.mount('/content/gdrive')\n",
        "%cd '/content/gdrive/MyDrive/ColabNotebooks'\n",
        "\n",
        "dataset=pd.read_csv(\"shopping-data.csv\")\n"
      ],
      "metadata": {
        "id": "YYY2dLtH3P8H",
        "colab": {
          "base_uri": "https://localhost:8080/"
        },
        "outputId": "d48af206-9aae-4796-83bc-f511264e0f82"
      },
      "execution_count": null,
      "outputs": [
        {
          "output_type": "stream",
          "name": "stdout",
          "text": [
            "Drive already mounted at /content/gdrive; to attempt to forcibly remount, call drive.mount(\"/content/gdrive\", force_remount=True).\n",
            "/content/gdrive/MyDrive/ColabNotebooks\n"
          ]
        }
      ]
    },
    {
      "cell_type": "code",
      "source": [
        "df = dataset.drop(columns=['CustomerID', 'Genre'])\n",
        "\n",
        "plt.figure(figsize=(10, 7))\n",
        "plt.title(\"Shopping-data Dendograms\")\n",
        "dend = shc.dendrogram(shc.linkage(df, method='ward'))"
      ],
      "metadata": {
        "colab": {
          "base_uri": "https://localhost:8080/",
          "height": 621
        },
        "id": "fYGJsmmj6f_d",
        "outputId": "ef1d9127-3d98-408a-f947-000c1923cd02"
      },
      "execution_count": 25,
      "outputs": [
        {
          "output_type": "display_data",
          "data": {
            "text/plain": [
              "<Figure size 1000x700 with 1 Axes>"
            ],
            "image/png": "[encoded data removed]"
          },
          "metadata": {}
        }
      ]
    },
    {
      "cell_type": "markdown",
      "source": [
        "*   3.2. Apply K-Means to the preprocessed dataset with k belongs to [2,10]. Then compute SSE values and plot them to find the best value of k."
      ],
      "metadata": {
        "id": "eHlh_dWUyEMr"
      }
    },
    {
      "cell_type": "code",
      "source": [
        "#code\n",
        "\n",
        "sse = []\n",
        "K = range(2,10)\n",
        "for k in K:\n",
        " kmeans = KMeans(n_clusters=k, random_state = 0)\n",
        " kmeans.fit(df)\n",
        " sse.append(kmeans.inertia_)\n",
        "plt.plot(K,sse,'bx-')\n",
        "plt.xlabel('Values of K') \n",
        "plt.ylabel('Sum of squared distances/Inertia') \n",
        "plt.title('Elbow Method For Optimal k')\n",
        "plt.show()  "
      ],
      "metadata": {
        "id": "8vx3mfIidu4P",
        "colab": {
          "base_uri": "https://localhost:8080/",
          "height": 770
        },
        "outputId": "14f4d571-9d46-47fb-e69c-7a31d6b8c934"
      },
      "execution_count": 27,
      "outputs": [
        {
          "output_type": "stream",
          "name": "stderr",
          "text": [
            "/usr/local/lib/python3.9/dist-packages/sklearn/cluster/_kmeans.py:870: FutureWarning: The default value of `n_init` will change from 10 to 'auto' in 1.4. Set the value of `n_init` explicitly to suppress the warning\n",
            "  warnings.warn(\n",
            "/usr/local/lib/python3.9/dist-packages/sklearn/cluster/_kmeans.py:870: FutureWarning: The default value of `n_init` will change from 10 to 'auto' in 1.4. Set the value of `n_init` explicitly to suppress the warning\n",
            "  warnings.warn(\n",
            "/usr/local/lib/python3.9/dist-packages/sklearn/cluster/_kmeans.py:870: FutureWarning: The default value of `n_init` will change from 10 to 'auto' in 1.4. Set the value of `n_init` explicitly to suppress the warning\n",
            "  warnings.warn(\n",
            "/usr/local/lib/python3.9/dist-packages/sklearn/cluster/_kmeans.py:870: FutureWarning: The default value of `n_init` will change from 10 to 'auto' in 1.4. Set the value of `n_init` explicitly to suppress the warning\n",
            "  warnings.warn(\n",
            "/usr/local/lib/python3.9/dist-packages/sklearn/cluster/_kmeans.py:870: FutureWarning: The default value of `n_init` will change from 10 to 'auto' in 1.4. Set the value of `n_init` explicitly to suppress the warning\n",
            "  warnings.warn(\n",
            "/usr/local/lib/python3.9/dist-packages/sklearn/cluster/_kmeans.py:870: FutureWarning: The default value of `n_init` will change from 10 to 'auto' in 1.4. Set the value of `n_init` explicitly to suppress the warning\n",
            "  warnings.warn(\n",
            "/usr/local/lib/python3.9/dist-packages/sklearn/cluster/_kmeans.py:870: FutureWarning: The default value of `n_init` will change from 10 to 'auto' in 1.4. Set the value of `n_init` explicitly to suppress the warning\n",
            "  warnings.warn(\n",
            "/usr/local/lib/python3.9/dist-packages/sklearn/cluster/_kmeans.py:870: FutureWarning: The default value of `n_init` will change from 10 to 'auto' in 1.4. Set the value of `n_init` explicitly to suppress the warning\n",
            "  warnings.warn(\n"
          ]
        },
        {
          "output_type": "display_data",
          "data": {
            "text/plain": [
              "<Figure size 640x480 with 1 Axes>"
            ],
            "image/png": "[encoded data removed]"
          },
          "metadata": {}
        }
      ]
    },
    {
      "cell_type": "code",
      "source": [
        "# Best K = 5"
      ],
      "metadata": {
        "id": "ruMt4Pc6-GBY"
      },
      "execution_count": null,
      "outputs": []
    },
    {
      "cell_type": "markdown",
      "source": [
        "*   3.2. From the obtained dengrograms, choose an appropriate number of clusters and apply **AgglomerativeClustering** algorithm to the given dataset"
      ],
      "metadata": {
        "id": "RJpsTIiyv-1h"
      }
    },
    {
      "cell_type": "code",
      "source": [
        "#code\n",
        "Xtrain = df.iloc[:,0:2]\n",
        "ytrain = df.iloc[:,2:3]\n",
        "\n",
        "cluster = AgglomerativeClustering(n_clusters=10, affinity='euclidean', linkage='ward')\n",
        "x_train, x_test, y_train, y_test = train_test_split(Xtrain,ytrain, test_size = 0.3, random_state = 0)\n",
        "y_pred= cluster.fit_predict(x_test)\n",
        "\n",
        "acc =  accuracy_score(y_test, y_pred)\n",
        "pre= metrics.precision_score(y_test, y_pred,average='macro')\n",
        "\n",
        "recall= metrics.recall_score(y_test, y_pred,average='macro')\n",
        "f1 = metrics.f1_score(y_test, y_pred,average='macro') \n",
        "print(\"Accuracy\")\n",
        "print(acc)\n",
        "print(\"Precision\")\n",
        "print(pre)\n",
        "print(\"Recall\")\n",
        "print(recall)\n",
        "print(\"F1\")\n",
        "print(f1)"
      ],
      "metadata": {
        "id": "5ZE7A0Au1Pg0",
        "colab": {
          "base_uri": "https://localhost:8080/"
        },
        "outputId": "53c98bb9-e81b-4a1d-c804-57068831b0d5"
      },
      "execution_count": 39,
      "outputs": [
        {
          "output_type": "stream",
          "name": "stdout",
          "text": [
            "Accuracy\n",
            "0.03333333333333333\n",
            "Precision\n",
            "0.0065359477124183\n",
            "Recall\n",
            "0.029411764705882353\n",
            "F1\n",
            "0.010504201680672268\n"
          ]
        },
        {
          "output_type": "stream",
          "name": "stderr",
          "text": [
            "/usr/local/lib/python3.9/dist-packages/sklearn/cluster/_agglomerative.py:983: FutureWarning: Attribute `affinity` was deprecated in version 1.2 and will be removed in 1.4. Use `metric` instead\n",
            "  warnings.warn(\n",
            "/usr/local/lib/python3.9/dist-packages/sklearn/metrics/_classification.py:1344: UndefinedMetricWarning: Precision is ill-defined and being set to 0.0 in labels with no predicted samples. Use `zero_division` parameter to control this behavior.\n",
            "  _warn_prf(average, modifier, msg_start, len(result))\n",
            "/usr/local/lib/python3.9/dist-packages/sklearn/metrics/_classification.py:1344: UndefinedMetricWarning: Recall is ill-defined and being set to 0.0 in labels with no true samples. Use `zero_division` parameter to control this behavior.\n",
            "  _warn_prf(average, modifier, msg_start, len(result))\n"
          ]
        }
      ]
    },
    {
      "cell_type": "markdown",
      "source": [
        "#Finally,\n",
        "Save a copy in your Github. Remember renaming the notebook."
      ],
      "metadata": {
        "id": "Ok7RGkea_b7n"
      }
    }
  ]
}