{
  "nbformat": 4,
  "nbformat_minor": 0,
  "metadata": {
    "colab": {
      "provenance": [],
      "include_colab_link": true
    },
    "kernelspec": {
      "name": "python3",
      "display_name": "Python 3"
    },
    "language_info": {
      "name": "python"
    }
  },
  "cells": [
    {
      "cell_type": "markdown",
      "metadata": {
        "id": "view-in-github",
        "colab_type": "text"
      },
      "source": [
        "<a href=\"https://colab.research.google.com/github/BuiThanhDam02/ML2023/blob/main/Lab_4_20130217_BuiThanhDam.ipynb\" target=\"_parent\"><img src=\"https://colab.research.google.com/assets/colab-badge.svg\" alt=\"Open In Colab\"/></a>"
      ]
    },
    {
      "cell_type": "markdown",
      "source": [
        "# This lab is to continous dealing with **Logistic Regression**, **kNN**, and **Decision Tree** alogirthms applied to classification tasks. \n",
        "\n",
        "*   **Deadline: 23:59, 12/03/2023**\n",
        "\n"
      ],
      "metadata": {
        "id": "LMzehe0sy5wr"
      }
    },
    {
      "cell_type": "markdown",
      "source": [
        "# Import libraries"
      ],
      "metadata": {
        "id": "H4nJmxp9zGX4"
      }
    },
    {
      "cell_type": "code",
      "execution_count": null,
      "metadata": {
        "id": "DoVWQ8AEyc-C"
      },
      "outputs": [],
      "source": [
        "# code\n",
        "from sklearn.metrics import accuracy_score \n",
        "from sklearn import metrics\n",
        "import numpy as np\n",
        "import pandas as pd\n",
        "from sklearn import datasets\n",
        "from sklearn.model_selection import train_test_split\n",
        "from sklearn.linear_model import LogisticRegression \n",
        "from sklearn.neighbors import KNeighborsClassifier\n",
        "from sklearn.metrics import ConfusionMatrixDisplay"
      ]
    },
    {
      "cell_type": "markdown",
      "source": [
        "#Task 1. \n",
        "Apply **LogisticRegression** to iris dataset which aims at classifying species of iris based on sepal_length (chiều dài đài hoa), sepal_width, petal_length (chiều dài cánh hoa), petal_width. The species are '**setosa**' '**versicolor**' and '**virginica**'. \n",
        "\n",
        "\n",
        "\n",
        "```\n",
        "from sklearn import datasets\n",
        "data4 = datasets.load_iris()\n",
        "```\n",
        "\n",
        "\n"
      ],
      "metadata": {
        "id": "kNv07ARGzOUm"
      }
    },
    {
      "cell_type": "code",
      "source": [
        "# code\n",
        "data4 = datasets.load_iris()\n",
        "Xtrain = data4['data']\n",
        "ytrain = data4['target']\n",
        "\n",
        "classifier = LogisticRegression() \n",
        "classifier.fit(Xtrain, ytrain)\n",
        "\n",
        "\n",
        "x_train, x_test, y_train, y_test = train_test_split(Xtrain,ytrain, test_size = 0.3, random_state = 1)\n",
        "y_pred = classifier.predict(x_test)\n",
        "\n",
        "\n",
        "\n",
        "print (\"Accuracy : \", accuracy_score(y_test, y_pred)) \n",
        "print (\"Precision_score : \", metrics.precision_score(y_test, y_pred,average='macro')) \n",
        "print (\"Confusion_matrix : \", metrics.confusion_matrix(y_test, y_pred)) \n",
        "print (\"Recall_score : \",metrics.recall_score(y_test, y_pred,average='macro')) \n",
        "print (\"F1_score : \", metrics.f1_score(y_test, y_pred,average='macro') )\n"
      ],
      "metadata": {
        "id": "sOsg77IBzEyo",
        "colab": {
          "base_uri": "https://localhost:8080/"
        },
        "outputId": "807e0e6a-c573-4095-fb64-6d769cd44442"
      },
      "execution_count": null,
      "outputs": [
        {
          "output_type": "stream",
          "name": "stdout",
          "text": [
            "Accuracy :  0.9777777777777777\n",
            "Precision_score :  0.9761904761904763\n",
            "Confusion_matrix :  [[14  0  0]\n",
            " [ 0 17  1]\n",
            " [ 0  0 13]]\n",
            "Recall_score :  0.9814814814814815\n",
            "F1_score :  0.9781305114638448\n"
          ]
        },
        {
          "output_type": "stream",
          "name": "stderr",
          "text": [
            "/usr/local/lib/python3.8/dist-packages/sklearn/linear_model/_logistic.py:458: ConvergenceWarning: lbfgs failed to converge (status=1):\n",
            "STOP: TOTAL NO. of ITERATIONS REACHED LIMIT.\n",
            "\n",
            "Increase the number of iterations (max_iter) or scale the data as shown in:\n",
            "    https://scikit-learn.org/stable/modules/preprocessing.html\n",
            "Please also refer to the documentation for alternative solver options:\n",
            "    https://scikit-learn.org/stable/modules/linear_model.html#logistic-regression\n",
            "  n_iter_i = _check_optimize_result(\n"
          ]
        }
      ]
    },
    {
      "cell_type": "code",
      "source": [
        "ConfusionMatrixDisplay.from_estimator(classifier, x_test, y_test)"
      ],
      "metadata": {
        "colab": {
          "base_uri": "https://localhost:8080/",
          "height": 296
        },
        "id": "VHuGWAVG2r_i",
        "outputId": "89bbfd4d-5ce7-45c0-9251-f7120cd5d8e3"
      },
      "execution_count": null,
      "outputs": [
        {
          "output_type": "execute_result",
          "data": {
            "text/plain": [
              "<sklearn.metrics._plot.confusion_matrix.ConfusionMatrixDisplay at 0x7f2e42c73f70>"
            ]
          },
          "metadata": {},
          "execution_count": 63
        },
        {
          "output_type": "display_data",
          "data": {
            "text/plain": [
              "<Figure size 432x288 with 2 Axes>"
            ],
            "image/png": "[encoded data removed]"
          },
          "metadata": {
            "needs_background": "light"
          }
        }
      ]
    },
    {
      "cell_type": "markdown",
      "source": [
        "#Task 2. \n",
        "Apply LogisticRegression to **MNIST** dataset (mnist.csv) which aims at classifying handwritten digits. Dataset includes 784 pixels values of images (28x28). \n",
        "\n",
        "\n",
        "```\n",
        "from sklearn import datasets\n",
        "# load the MNIST digits dataset\n",
        "mnist = datasets.load_digits()\n",
        "```\n",
        "\n"
      ],
      "metadata": {
        "id": "S43IoUT-0OQq"
      }
    },
    {
      "cell_type": "code",
      "source": [
        "# code\n",
        "mnist = datasets.load_digits()\n",
        "\n",
        "Xtrain2 = mnist['data']\n",
        "ytrain2 = mnist['target']\n",
        "\n",
        "classifier2 = LogisticRegression() \n",
        "classifier2.fit(Xtrain2, ytrain2)\n",
        "\n",
        "\n",
        "x_train2, x_test2, y_train2, y_test2 = train_test_split(Xtrain2,ytrain2, test_size = 0.3, random_state = 1)\n",
        "y_pred2 = classifier2.predict(x_test2)\n",
        "\n",
        "\n",
        "\n",
        "print (\"Accuracy : \", accuracy_score(y_test2, y_pred2)) \n",
        "print (\"Precision_score : \", metrics.precision_score(y_test2, y_pred2,average='macro')) \n",
        "print (\"Confusion_matrix : \", metrics.confusion_matrix(y_test2, y_pred2)) \n",
        "print (\"Recall_score : \",metrics.recall_score(y_test2, y_pred2,average='macro')) \n",
        "print (\"F1_score : \", metrics.f1_score(y_test2, y_pred2,average='macro') )"
      ],
      "metadata": {
        "id": "_xhPpF5b033h",
        "colab": {
          "base_uri": "https://localhost:8080/"
        },
        "outputId": "79fb446a-61ae-4054-d66d-3072698073d0"
      },
      "execution_count": null,
      "outputs": [
        {
          "output_type": "stream",
          "name": "stdout",
          "text": [
            "Accuracy :  1.0\n",
            "Precision_score :  1.0\n",
            "Confusion_matrix :  [[59  0  0  0  0  0  0  0  0  0]\n",
            " [ 0 49  0  0  0  0  0  0  0  0]\n",
            " [ 0  0 49  0  0  0  0  0  0  0]\n",
            " [ 0  0  0 64  0  0  0  0  0  0]\n",
            " [ 0  0  0  0 61  0  0  0  0  0]\n",
            " [ 0  0  0  0  0 47  0  0  0  0]\n",
            " [ 0  0  0  0  0  0 51  0  0  0]\n",
            " [ 0  0  0  0  0  0  0 57  0  0]\n",
            " [ 0  0  0  0  0  0  0  0 46  0]\n",
            " [ 0  0  0  0  0  0  0  0  0 57]]\n",
            "Recall_score :  1.0\n",
            "F1_score :  1.0\n"
          ]
        },
        {
          "output_type": "stream",
          "name": "stderr",
          "text": [
            "/usr/local/lib/python3.8/dist-packages/sklearn/linear_model/_logistic.py:458: ConvergenceWarning: lbfgs failed to converge (status=1):\n",
            "STOP: TOTAL NO. of ITERATIONS REACHED LIMIT.\n",
            "\n",
            "Increase the number of iterations (max_iter) or scale the data as shown in:\n",
            "    https://scikit-learn.org/stable/modules/preprocessing.html\n",
            "Please also refer to the documentation for alternative solver options:\n",
            "    https://scikit-learn.org/stable/modules/linear_model.html#logistic-regression\n",
            "  n_iter_i = _check_optimize_result(\n"
          ]
        }
      ]
    },
    {
      "cell_type": "code",
      "source": [
        "ConfusionMatrixDisplay.from_estimator(classifier2, x_test2, y_test2)"
      ],
      "metadata": {
        "colab": {
          "base_uri": "https://localhost:8080/",
          "height": 296
        },
        "id": "ZJEp3Nng21JY",
        "outputId": "b683754b-bd00-4cfe-d841-b2e03999220b"
      },
      "execution_count": null,
      "outputs": [
        {
          "output_type": "execute_result",
          "data": {
            "text/plain": [
              "<sklearn.metrics._plot.confusion_matrix.ConfusionMatrixDisplay at 0x7f2e42bb6b20>"
            ]
          },
          "metadata": {},
          "execution_count": 64
        },
        {
          "output_type": "display_data",
          "data": {
            "text/plain": [
              "<Figure size 432x288 with 2 Axes>"
            ],
            "image/png": "[encoded data removed]"
          },
          "metadata": {
            "needs_background": "light"
          }
        }
      ]
    },
    {
      "cell_type": "markdown",
      "source": [
        "#Task 3. \n",
        "Apply another classification algorithm named kNN, which is an instance classifcation model. \n",
        "*  3.1. Perform kNN algorithm to Iris dataset with k={1, 3, 5, …, 29}. Select the best value of k.\n",
        "\n",
        "*   3.2. Then compare the obtained results with those using Logistic regression (based on metrics: accuracy, precision, recall, f1 measure).\n"
      ],
      "metadata": {
        "id": "Rti2y0Wz2KY9"
      }
    },
    {
      "cell_type": "code",
      "source": [
        "# code\n",
        "data_task_3 = datasets.load_iris()\n",
        "Xtrain3 = data_task_3['data']\n",
        "ytrain3 = data_task_3['target']\n",
        "\n",
        "k_range = range(1,30,2)\n",
        "accs= []\n",
        "precisions = []\n",
        "recalls= []\n",
        "f1s=[]\n",
        "\n",
        "for k in k_range:\n",
        "  model = KNeighborsClassifier(n_neighbors=k)\n",
        "  model.fit(Xtrain3,ytrain3)\n",
        "  x_train3, x_test3, y_train3, y_test3 = train_test_split(Xtrain3,ytrain3, test_size = 0.3, random_state = 1)\n",
        "  y_pred3 = model.predict(x_test3)\n",
        "  accs.append(accuracy_score(y_test3, y_pred3))\n",
        "  precisions.append(metrics.precision_score(y_test3, y_pred3,average='macro'))\n",
        "  recalls.append(metrics.recall_score(y_test3, y_pred3,average='macro'))\n",
        "  f1s.append(metrics.f1_score(y_test3, y_pred3,average='macro') )\n",
        "\n",
        "print(\"Accuracys: \",accs)\n",
        "print(\"Precisions: \",precisions)\n",
        "print(\"Recalls: \",recalls)\n",
        "print(\"F1s: \",f1s)\n"
      ],
      "metadata": {
        "id": "13LkkfpS2ZUR",
        "colab": {
          "base_uri": "https://localhost:8080/"
        },
        "outputId": "885391ee-bc28-4798-bb56-728cff2684ee"
      },
      "execution_count": null,
      "outputs": [
        {
          "output_type": "stream",
          "name": "stdout",
          "text": [
            "Accuracys:  [1.0, 0.9777777777777777, 0.9777777777777777, 1.0, 1.0, 0.9777777777777777, 0.9777777777777777, 1.0, 0.9777777777777777, 0.9777777777777777, 0.9777777777777777, 0.9777777777777777, 0.9777777777777777, 0.9777777777777777, 0.9777777777777777]\n",
            "Precisions:  [1.0, 0.9824561403508771, 0.9824561403508771, 1.0, 1.0, 0.9761904761904763, 0.9761904761904763, 1.0, 0.9761904761904763, 0.9761904761904763, 0.9761904761904763, 0.9761904761904763, 0.9761904761904763, 0.9761904761904763, 0.9761904761904763]\n",
            "Recalls:  [1.0, 0.9743589743589745, 0.9743589743589745, 1.0, 1.0, 0.9814814814814815, 0.9814814814814815, 1.0, 0.9814814814814815, 0.9814814814814815, 0.9814814814814815, 0.9814814814814815, 0.9814814814814815, 0.9814814814814815, 0.9814814814814815]\n",
            "F1s:  [1.0, 0.9776576576576578, 0.9776576576576578, 1.0, 1.0, 0.9781305114638448, 0.9781305114638448, 1.0, 0.9781305114638448, 0.9781305114638448, 0.9781305114638448, 0.9781305114638448, 0.9781305114638448, 0.9781305114638448, 0.9781305114638448]\n"
          ]
        }
      ]
    },
    {
      "cell_type": "markdown",
      "source": [
        "#Task 4. \n",
        "Similar to Task 3, apply kNN algorithm to **mnist** dataset which included in datasets of sklearn API.\n",
        "*  4.1.\tPerform kNN algorithm to Iris dataset with k={1, 3, 5, …, 29}. Select the best value of k.\n",
        "*  4.2.\tThen compare the obtained results with those using Logistic regression (based on metrics: accuracy, precision, recall, f1 measure).\n"
      ],
      "metadata": {
        "id": "b52OPWPD2afi"
      }
    },
    {
      "cell_type": "code",
      "source": [
        "# code\n",
        "mnist4 = datasets.load_digits()\n",
        "Xtrain4 = mnist4['data']\n",
        "ytrain4 = mnist4['target']\n",
        "\n",
        "k_range4 = range(1,30,2)\n",
        "accs4= []\n",
        "precisions4 = []\n",
        "recalls4= []\n",
        "f1s4=[]\n",
        "\n",
        "for k in k_range4:\n",
        "  model = KNeighborsClassifier(n_neighbors=k)\n",
        "  model.fit(Xtrain4,ytrain4)\n",
        "  x_train4, x_test4, y_train4, y_test4 = train_test_split(Xtrain4,ytrain4, test_size = 0.3, random_state = 1)\n",
        "  y_pred4 = model.predict(x_test4)\n",
        "  accs4.append(accuracy_score(y_test4, y_pred4))\n",
        "  precisions4.append(metrics.precision_score(y_test4, y_pred4,average='macro'))\n",
        "  recalls4.append(metrics.recall_score(y_test4, y_pred4,average='macro'))\n",
        "  f1s4.append(metrics.f1_score(y_test4, y_pred4,average='macro') )\n",
        "\n",
        "print(\"Accuracys: \",accs4)\n",
        "print(\"Precisions: \",precisions4)\n",
        "print(\"Recalls: \",recalls4)\n",
        "print(\"F1s: \",f1s4)"
      ],
      "metadata": {
        "id": "Rw_-8FIf2KxW",
        "colab": {
          "base_uri": "https://localhost:8080/"
        },
        "outputId": "a92f5b7d-b53c-4c13-a833-f2375e743d59"
      },
      "execution_count": null,
      "outputs": [
        {
          "output_type": "stream",
          "name": "stdout",
          "text": [
            "Accuracys:  [1.0, 0.9981481481481481, 0.9962962962962963, 0.9944444444444445, 0.9962962962962963, 0.9962962962962963, 0.9925925925925926, 0.9925925925925926, 0.9925925925925926, 0.9907407407407407, 0.9888888888888889, 0.9833333333333333, 0.9814814814814815, 0.9796296296296296, 0.9777777777777777]\n",
            "Precisions:  [1.0, 0.9982758620689655, 0.9961622807017543, 0.9941925287356321, 0.9961925287356322, 0.9961925287356322, 0.9923938165295851, 0.9923938165295851, 0.9923530002030546, 0.9906591103058979, 0.9884368880836755, 0.9830500248964494, 0.9807882197167912, 0.9791753164909848, 0.9781161374204809]\n",
            "Recalls:  [1.0, 0.9982456140350877, 0.9964912280701753, 0.9940308846650788, 0.9962047977085572, 0.9962047977085572, 0.9924377938717939, 0.9924377938717939, 0.9919032250906106, 0.9897293120471324, 0.9881668120471325, 0.982676013038742, 0.9810547237907773, 0.9793598085365401, 0.9776054225716277]\n",
            "F1s:  [1.0, 0.9982454790303963, 0.9963080267039279, 0.9940529175073953, 0.9961619196163974, 0.9961619196163974, 0.9923809141170841, 0.9923809141170841, 0.9921086718177966, 0.9901310410072138, 0.9882691583579296, 0.9827168025632271, 0.9807700628041527, 0.9791023538193706, 0.9775619349405023]\n"
          ]
        }
      ]
    },
    {
      "cell_type": "markdown",
      "source": [
        "#Task 5. \n",
        "Compare the performance of selected classification algorithms (**Decision Treen, kNN, and Logistic Regression**) to ***spam detection***. The dataset can be accessed from the link: http://archive.ics.uci.edu/ml/datasets/Spambase \n",
        "Attribute Information:\n",
        "The last column of 'spambase.csv denotes whether the e-mail was considered spam (1) or not (0), i.e. unsolicited commercial e-mail. Most of the attributes indicate whether a particular word or character was frequently occuring in the e-mail. The run-length attributes (55-57) measure the length of sequences of consecutive capital letters. For the statistical measures of each attribute, see the end of this file. Here are the definitions of the attributes: \n",
        "*  48 continuous real [0,100] attributes of type word_freq_WORD \n",
        "= percentage of words in the e-mail that match WORD, i.e. 100 * (number of times the WORD appears in the e-mail) / total number of words in e-mail. A \"word\" in this case is any string of alphanumeric characters bounded by non-alphanumeric characters or end-of-string. **Example**: word_freq_address: percentage of words in the e-mail that match ADDRESS.\n",
        "*  6 continuous real [0,100] attributes of type char_freq_CHAR] \n",
        "= percentage of characters in the e-mail that match CHAR, i.e. 100 * (number of CHAR occurences) / total characters in e-mail\n",
        "*  1 continuous real [1,...] attribute of type capital_run_length_average \n",
        "= average length of uninterrupted sequences of capital letters\n",
        "*  1 continuous integer [1,...] attribute of type capital_run_length_longest \n",
        "= length of longest uninterrupted sequence of capital letters\n",
        "*  1 continuous integer [1,...] attribute of type capital_run_length_total = sum of length of uninterrupted sequences of capital letters = total number of capital letters in the e-mail\n",
        "*  1 nominal {0,1} class attribute of type spam = denotes whether the e-mail was considered spam (1) or not (0), i.e. unsolicited commercial e-mail. \n",
        "\n",
        "\n",
        "---\n",
        "\n",
        "\n",
        "In order to compare the performance of selected algorithms, some common metrics including **accuracy, precision, recall, f1 measures** could be used.\n"
      ],
      "metadata": {
        "id": "MVzSk4l505E0"
      }
    },
    {
      "cell_type": "code",
      "source": [
        "# code\n"
      ],
      "metadata": {
        "id": "W_1v_ivR2f6D"
      },
      "execution_count": null,
      "outputs": []
    },
    {
      "cell_type": "markdown",
      "source": [
        "#Finally,\n",
        "Save a copy in your Github. Remember renaming the notebook."
      ],
      "metadata": {
        "id": "Ok7RGkea_b7n"
      }
    }
  ]
}