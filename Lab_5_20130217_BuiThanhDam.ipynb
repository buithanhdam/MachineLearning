{
  "nbformat": 4,
  "nbformat_minor": 0,
  "metadata": {
    "colab": {
      "provenance": [],
      "include_colab_link": true
    },
    "kernelspec": {
      "name": "python3",
      "display_name": "Python 3"
    },
    "language_info": {
      "name": "python"
    }
  },
  "cells": [
    {
      "cell_type": "markdown",
      "metadata": {
        "id": "view-in-github",
        "colab_type": "text"
      },
      "source": [
        "<a href=\"https://colab.research.google.com/github/BuiThanhDam02/ML2023/blob/main/Lab_5_20130217_BuiThanhDam.ipynb\" target=\"_parent\"><img src=\"https://colab.research.google.com/assets/colab-badge.svg\" alt=\"Open In Colab\"/></a>"
      ]
    },
    {
      "cell_type": "markdown",
      "source": [
        "# This lab is to deal with **SVM** to classification tasks and compare its performance with other competitive algorithms. In general, **SVM** is one of the most popular and widely used supervised machine learning algorithms.\n",
        "\n",
        "*   **Deadline: 23:59, 17/03/2023**\n",
        "\n"
      ],
      "metadata": {
        "id": "LMzehe0sy5wr"
      }
    },
    {
      "cell_type": "markdown",
      "source": [
        "# Import libraries"
      ],
      "metadata": {
        "id": "H4nJmxp9zGX4"
      }
    },
    {
      "cell_type": "code",
      "execution_count": null,
      "metadata": {
        "id": "DoVWQ8AEyc-C"
      },
      "outputs": [],
      "source": [
        "# code\n",
        "from sklearn.metrics import accuracy_score \n",
        "from sklearn import metrics\n",
        "import numpy as np\n",
        "import pandas as pd\n",
        "from sklearn import datasets\n",
        "from sklearn.model_selection import train_test_split\n",
        "from sklearn import svm\n",
        "from sklearn.linear_model import LogisticRegression \n",
        "from sklearn.neighbors import KNeighborsClassifier\n",
        "from sklearn.metrics import ConfusionMatrixDisplay\n",
        "from prettytable import  PrettyTable\n",
        "from sklearn.tree import DecisionTreeClassifier\n",
        "from sklearn.metrics import classification_report, confusion_matrix\n",
        "\n"
      ]
    },
    {
      "cell_type": "markdown",
      "source": [
        "#Task 1. \n",
        "For breast cancer dataset (https://tinyurl.com/3vme8hr3) which could be loaded from datasets in sklearn as follows:\n",
        "\n",
        "```\n",
        "#Import scikit-learn dataset library\n",
        "from sklearn import datasets\n",
        "\n",
        "#Load dataset\n",
        "cancer = datasets.load_breast_cancer()\n",
        "```\n",
        "\n",
        "*   1.1.\tApply SVM algorithm to above dataset using linear kernel.\n",
        "*   1.2.\tCompare the obtained results with other competitive algorithms (Logistic Regression, Decision Tree, kNN) based on metrics: accuracy, precision, recall, f1 measures.\n",
        "\n"
      ],
      "metadata": {
        "id": "kNv07ARGzOUm"
      }
    },
    {
      "cell_type": "code",
      "source": [
        "# code\n",
        "cancer = datasets.load_breast_cancer()\n",
        "\n",
        "Xtrain = cancer['data']\n",
        "ytrain = cancer['target']\n",
        "\n",
        "clf = svm.SVC(kernel='linear') # Linear Kernel\n",
        "\n",
        "clf.fit(Xtrain, ytrain)\n",
        "x_train, x_test, y_train, y_test = train_test_split(Xtrain,ytrain, test_size = 0.3, random_state = 1)\n",
        "\n",
        "y_pred = clf.predict(x_test)\n",
        "\n",
        "accSvm =  accuracy_score(y_test, y_pred)\n",
        "preSvm= metrics.precision_score(y_test, y_pred,average='macro')\n",
        "\n",
        "recallSvm= metrics.recall_score(y_test, y_pred,average='macro')\n",
        "f1Svm = metrics.f1_score(y_test, y_pred,average='macro') \n",
        "\n",
        "print(confusion_matrix(y_test, y_pred))\n",
        "print(classification_report(y_test, y_pred))\n"
      ],
      "metadata": {
        "id": "sOsg77IBzEyo",
        "colab": {
          "base_uri": "https://localhost:8080/"
        },
        "outputId": "713ba43e-539d-4ea8-fd44-4a5114f6895a"
      },
      "execution_count": null,
      "outputs": [
        {
          "output_type": "stream",
          "name": "stdout",
          "text": [
            "[[ 60   3]\n",
            " [  2 106]]\n",
            "              precision    recall  f1-score   support\n",
            "\n",
            "           0       0.97      0.95      0.96        63\n",
            "           1       0.97      0.98      0.98       108\n",
            "\n",
            "    accuracy                           0.97       171\n",
            "   macro avg       0.97      0.97      0.97       171\n",
            "weighted avg       0.97      0.97      0.97       171\n",
            "\n"
          ]
        }
      ]
    },
    {
      "cell_type": "code",
      "source": [
        "# logic\n",
        "Xtrain2 = cancer['data']\n",
        "ytrain2 = cancer['target']\n",
        "\n",
        "classifier2 = LogisticRegression() \n",
        "classifier2.fit(Xtrain2, ytrain2)\n",
        "\n",
        "\n",
        "x_train2, x_test2, y_train2, y_test2 = train_test_split(Xtrain2,ytrain2, test_size = 0.3, random_state = 1)\n",
        "y_pred2 = classifier2.predict(x_test2)\n",
        "\n",
        "\n",
        "\n",
        "accLog = accuracy_score(y_test2, y_pred2)\n",
        "preLog=  metrics.precision_score(y_test2, y_pred2,average='macro') \n",
        "\n",
        "recallLog= metrics.recall_score(y_test2, y_pred2,average='macro')\n",
        "f1Log= metrics.f1_score(y_test2, y_pred2,average='macro') \n",
        "\n",
        "#Knn\n",
        "Xtrain4 = cancer['data']\n",
        "ytrain4 = cancer['target']\n",
        "\n",
        "y_predKnnBest = 0\n",
        "bestK = 0\n",
        "k_range4 = range(1,30,2)\n",
        "for k in k_range4:\n",
        "  model = KNeighborsClassifier(n_neighbors=k)\n",
        "  model.fit(Xtrain4,ytrain4)\n",
        "  x_train4, x_test4, y_train4, y_test4 = train_test_split(Xtrain4,ytrain4, test_size = 0.3, random_state = 1)\n",
        "  y_pred4 = model.predict(x_test4)\n",
        "  if((y_predKnnBest <= y_pred4).any()):\n",
        "    y_predKnnBest = y_pred4\n",
        "    \n",
        "\n",
        "\n",
        "\n",
        "\n",
        "accKnn = accuracy_score(y_test4, y_predKnnBest)\n",
        "preKnn = metrics.precision_score(y_test4, y_predKnnBest,average='macro')\n",
        "recallKnn= metrics.recall_score(y_test4, y_predKnnBest,average='macro')\n",
        "f1Knn = metrics.f1_score(y_test4, y_predKnnBest,average='macro') \n",
        "\n",
        "# decision tree\n",
        "Xtrain5 = cancer['data']\n",
        "ytrain5 = cancer['target']\n",
        "dtc = DecisionTreeClassifier()\n",
        "dtc.fit(Xtrain5,ytrain5)\n",
        "x_train5, x_test5, y_train5, y_test5 = train_test_split(Xtrain4,ytrain4, test_size = 0.3, random_state = 1)\n",
        "y_pred5 = dtc.predict(x_test5)\n",
        "\n",
        "accDT = accuracy_score(y_test5, y_pred5)\n",
        "preDT = metrics.precision_score(y_test5, y_pred5,average='macro')\n",
        "recallDT= metrics.recall_score(y_test5, y_pred5,average='macro')\n",
        "f1DT = metrics.f1_score(y_test5, y_pred5,average='macro') \n",
        "\n",
        "\n",
        "t = PrettyTable(['Name Metric measure','SVM Kernel','Logistic Regression',\"KNN\",'Decision Tree'])\n",
        "t.add_row(['Accuracy',accSvm,accLog,accKnn,accDT])\n",
        "t.add_row(['Precision Score',preSvm,preLog,preKnn,preDT])\n",
        "t.add_row(['Recall Score',recallSvm,recallLog,recallKnn,recallDT])\n",
        "t.add_row(['F1',f1Svm,f1Log,f1Knn,f1DT])\n",
        "print(t)"
      ],
      "metadata": {
        "colab": {
          "base_uri": "https://localhost:8080/"
        },
        "id": "2qYSaFhlX213",
        "outputId": "c4e254c0-3a39-4752-a368-7471b359f974"
      },
      "execution_count": null,
      "outputs": [
        {
          "output_type": "stream",
          "name": "stderr",
          "text": [
            "/usr/local/lib/python3.9/dist-packages/sklearn/linear_model/_logistic.py:458: ConvergenceWarning: lbfgs failed to converge (status=1):\n",
            "STOP: TOTAL NO. of ITERATIONS REACHED LIMIT.\n",
            "\n",
            "Increase the number of iterations (max_iter) or scale the data as shown in:\n",
            "    https://scikit-learn.org/stable/modules/preprocessing.html\n",
            "Please also refer to the documentation for alternative solver options:\n",
            "    https://scikit-learn.org/stable/modules/linear_model.html#logistic-regression\n",
            "  n_iter_i = _check_optimize_result(\n"
          ]
        },
        {
          "output_type": "stream",
          "name": "stdout",
          "text": [
            "+---------------------+--------------------+---------------------+--------------------+---------------+\n",
            "| Name Metric measure |     SVM Kernel     | Logistic Regression |        KNN         | Decision Tree |\n",
            "+---------------------+--------------------+---------------------+--------------------+---------------+\n",
            "|       Accuracy      | 0.9707602339181286 |  0.935672514619883  | 0.9239766081871345 |      1.0      |\n",
            "|   Precision Score   | 0.9701094998520272 |  0.9297605140186915 | 0.9297360248447204 |      1.0      |\n",
            "|     Recall Score    | 0.966931216931217  |  0.9325396825396826 | 0.9067460317460317 |      1.0      |\n",
            "|          F1         | 0.9684792626728111 |  0.9311115180369895 | 0.9162301691977239 |      1.0      |\n",
            "+---------------------+--------------------+---------------------+--------------------+---------------+\n"
          ]
        }
      ]
    },
    {
      "cell_type": "markdown",
      "source": [
        "#Task 2. \n",
        "\n",
        "*   1.1.\tPerform SVM algorithm to **Iris dataset** using **linear kernel**.\n",
        "*   1.2.\tCompare the obtained results in 1.1 with SVM using other kernels (**Polynomial Kernel, Gaussian Kernel, Sigmoid Kernel, Radial Basis Function Kernel**). Some metrics could be used: accuracy, precision, recall, f1 measures\n",
        "\n",
        "\n",
        "\n"
      ],
      "metadata": {
        "id": "S43IoUT-0OQq"
      }
    },
    {
      "cell_type": "code",
      "source": [
        "# code\n",
        "Xtraint2 = cancer['data']\n",
        "ytraint2 = cancer['target']\n",
        "\n",
        "clf = svm.SVC(kernel='linear') # Linear Kernel\n",
        "\n",
        "clf.fit(Xtraint2, ytraint2)\n",
        "x_traint2, x_testt2, y_traint2, y_testt2 = train_test_split(Xtraint2,ytraint2, test_size = 0.3, random_state = 0)\n",
        "\n",
        "y_predt2 = clf.predict(x_testt2)\n",
        "\n",
        "accLSvmt2 =  accuracy_score(y_testt2, y_predt2)\n",
        "preLSvmt2= metrics.precision_score(y_testt2, y_predt2,average='macro')\n",
        "\n",
        "recallLt2= metrics.recall_score(y_testt2, y_predt2,average='macro')\n",
        "f1Lt2 = metrics.f1_score(y_testt2, y_predt2,average='macro') \n",
        "print(confusion_matrix(y_testt2, y_predt2))\n",
        "print(classification_report(y_testt2, y_predt2))\n"
      ],
      "metadata": {
        "id": "_xhPpF5b033h",
        "colab": {
          "base_uri": "https://localhost:8080/"
        },
        "outputId": "4020b0f5-c5eb-45e7-8b1d-b5264766f6a1"
      },
      "execution_count": null,
      "outputs": [
        {
          "output_type": "stream",
          "name": "stdout",
          "text": [
            "[[16  0  0]\n",
            " [ 0 17  1]\n",
            " [ 0  0 11]]\n",
            "              precision    recall  f1-score   support\n",
            "\n",
            "           0       1.00      1.00      1.00        16\n",
            "           1       1.00      0.94      0.97        18\n",
            "           2       0.92      1.00      0.96        11\n",
            "\n",
            "    accuracy                           0.98        45\n",
            "   macro avg       0.97      0.98      0.98        45\n",
            "weighted avg       0.98      0.98      0.98        45\n",
            "\n"
          ]
        }
      ]
    },
    {
      "cell_type": "code",
      "source": [
        "\n",
        "# Polynomial Kernel\n",
        "XtraintP = cancer['data']\n",
        "ytraintP = cancer['target']\n",
        "\n",
        "clf = svm.SVC(kernel='poly')\n",
        "\n",
        "clf.fit(XtraintP, ytraintP)\n",
        "x_trainP, x_testP, y_trainP, y_testP = train_test_split(XtraintP,ytraintP, test_size = 0.3, random_state = 0)\n",
        "\n",
        "y_predP = clf.predict(x_testP)\n",
        "\n",
        "accPSvm =  accuracy_score(y_testP, y_predP)\n",
        "prePSvm= metrics.precision_score(y_testP, y_predP,average='macro')\n",
        "\n",
        "recallP= metrics.recall_score(y_testP, y_predP,average='macro')\n",
        "f1P = metrics.f1_score(y_testP, y_predP,average='macro') \n",
        "\n",
        "# Sigmoid Kernel\n",
        "XtraintS = cancer['data']\n",
        "ytraintS = cancer['target']\n",
        "\n",
        "clf = svm.SVC(kernel='sigmoid')\n",
        "\n",
        "clf.fit(XtraintS, ytraintS)\n",
        "x_trainS, x_testS, y_trainS, y_testS = train_test_split(XtraintS,ytraintS, test_size = 0.3, random_state = 0)\n",
        "\n",
        "y_predS = clf.predict(x_testS)\n",
        "\n",
        "accSSvm =  accuracy_score(y_testS, y_predS)\n",
        "preSSvm= metrics.precision_score(y_testS, y_predS,average='macro')\n",
        "\n",
        "recallS= metrics.recall_score(y_testS, y_predS,average='macro')\n",
        "f1S = metrics.f1_score(y_testS, y_predS,average='macro') \n",
        "# Radial Basis Function Kernel\n",
        "XtraintR = cancer['data']\n",
        "ytraintR = cancer['target']\n",
        "\n",
        "clf = svm.SVC(kernel='rbf')\n",
        "\n",
        "clf.fit(XtraintR, ytraintR)\n",
        "x_trainR, x_testR, y_trainR, y_testR = train_test_split(XtraintR,ytraintR, test_size = 0.3, random_state = 0)\n",
        "\n",
        "y_predR = clf.predict(x_testR)\n",
        "\n",
        "accRSvm =  accuracy_score(y_testR, y_predR)\n",
        "preRSvm= metrics.precision_score(y_testR, y_predR,average='macro')\n",
        "\n",
        "recallR= metrics.recall_score(y_testR, y_predR,average='macro')\n",
        "f1R = metrics.f1_score(y_testR, y_predR,average='macro') \n",
        "\n",
        "t2 = PrettyTable(['Name Metric measure','Linear Kernel','Polynomial Kernel',\"Sigmoid Kernel\",'Radial Basis Function Kernel'])\n",
        "t2.add_row(['Accuracy',accLSvmt2,accPSvm,accSSvm,accRSvm])\n",
        "t2.add_row(['Precision Score',preLSvmt2,prePSvm,preSSvm,preRSvm])\n",
        "t2.add_row(['Recall Score',recallLt2,recallP,recallS,recallR])\n",
        "t2.add_row(['F1',f1Lt2,f1P,f1S,f1R])\n",
        "print(t2)\n",
        "\n"
      ],
      "metadata": {
        "colab": {
          "base_uri": "https://localhost:8080/"
        },
        "id": "B9IxQLjaYQc6",
        "outputId": "666dfabb-0745-47c4-f979-e2729721a3fe"
      },
      "execution_count": null,
      "outputs": [
        {
          "output_type": "stream",
          "name": "stdout",
          "text": [
            "+---------------------+--------------------+--------------------+---------------------+------------------------------+\n",
            "| Name Metric measure |   Linear Kernel    | Polynomial Kernel  |    Sigmoid Kernel   | Radial Basis Function Kernel |\n",
            "+---------------------+--------------------+--------------------+---------------------+------------------------------+\n",
            "|       Accuracy      | 0.9777777777777777 | 0.9777777777777777 | 0.08888888888888889 |      0.9777777777777777      |\n",
            "|   Precision Score   | 0.9722222222222222 | 0.9722222222222222 | 0.04301075268817204 |      0.9722222222222222      |\n",
            "|     Recall Score    | 0.9814814814814815 | 0.9814814814814815 | 0.08333333333333333 |      0.9814814814814815      |\n",
            "|          F1         | 0.975983436853002  | 0.975983436853002  | 0.05673758865248227 |      0.975983436853002       |\n",
            "+---------------------+--------------------+--------------------+---------------------+------------------------------+\n"
          ]
        },
        {
          "output_type": "stream",
          "name": "stderr",
          "text": [
            "/usr/local/lib/python3.9/dist-packages/sklearn/metrics/_classification.py:1344: UndefinedMetricWarning: Precision is ill-defined and being set to 0.0 in labels with no predicted samples. Use `zero_division` parameter to control this behavior.\n",
            "  _warn_prf(average, modifier, msg_start, len(result))\n"
          ]
        }
      ]
    },
    {
      "cell_type": "markdown",
      "source": [
        "#Task 3. \n",
        "Compare the performance of selected classification algorithms (Decision Tree, kNN, Logistic Regression) and SVM (using different kernels) with mnist dataset based on accuracy, precision, recall, f1 measures.\n"
      ],
      "metadata": {
        "id": "b52OPWPD2afi"
      }
    },
    {
      "cell_type": "code",
      "source": [
        "cancer = datasets.load_digits()\n",
        "\n",
        "Xtrain = cancer['data']\n",
        "ytrain = cancer['target']\n",
        "\n",
        "clf = svm.SVC(kernel='poly') # Linear Kernel\n",
        "\n",
        "clf.fit(Xtrain, ytrain)\n",
        "x_train, x_test, y_train, y_test = train_test_split(Xtrain,ytrain, test_size = 0.3, random_state = 1)\n",
        "\n",
        "y_pred = clf.predict(x_test)\n",
        "\n",
        "accSvm =  accuracy_score(y_test, y_pred)\n",
        "preSvm= metrics.precision_score(y_test, y_pred,average='macro')\n",
        "\n",
        "recallSvm= metrics.recall_score(y_test, y_pred,average='macro')\n",
        "f1Svm = metrics.f1_score(y_test, y_pred,average='macro') "
      ],
      "metadata": {
        "id": "P0VR0OQjs4Di"
      },
      "execution_count": null,
      "outputs": []
    },
    {
      "cell_type": "code",
      "source": [
        "# logic\n",
        "Xtrain2 = cancer['data']\n",
        "ytrain2 = cancer['target']\n",
        "\n",
        "classifier2 = LogisticRegression() \n",
        "classifier2.fit(Xtrain2, ytrain2)\n",
        "\n",
        "\n",
        "x_train2, x_test2, y_train2, y_test2 = train_test_split(Xtrain2,ytrain2, test_size = 0.3, random_state = 1)\n",
        "y_pred2 = classifier2.predict(x_test2)\n",
        "\n",
        "\n",
        "\n",
        "accLog = accuracy_score(y_test2, y_pred2)\n",
        "preLog=  metrics.precision_score(y_test2, y_pred2,average='macro') \n",
        "\n",
        "recallLog= metrics.recall_score(y_test2, y_pred2,average='macro')\n",
        "f1Log= metrics.f1_score(y_test2, y_pred2,average='macro') \n",
        "\n",
        "#Knn\n",
        "Xtrain4 = cancer['data']\n",
        "ytrain4 = cancer['target']\n",
        "\n",
        "y_predKnnBest = 0\n",
        "bestK = 0\n",
        "k_range4 = range(1,30,2)\n",
        "for k in k_range4:\n",
        "  model = KNeighborsClassifier(n_neighbors=k)\n",
        "  model.fit(Xtrain4,ytrain4)\n",
        "  x_train4, x_test4, y_train4, y_test4 = train_test_split(Xtrain4,ytrain4, test_size = 0.3, random_state = 1)\n",
        "  y_pred4 = model.predict(x_test4)\n",
        "  if((y_predKnnBest <= y_pred4).any()):\n",
        "    y_predKnnBest = y_pred4\n",
        "    \n",
        "\n",
        "\n",
        "\n",
        "\n",
        "accKnn = accuracy_score(y_test4, y_predKnnBest)\n",
        "preKnn = metrics.precision_score(y_test4, y_predKnnBest,average='macro')\n",
        "recallKnn= metrics.recall_score(y_test4, y_predKnnBest,average='macro')\n",
        "f1Knn = metrics.f1_score(y_test4, y_predKnnBest,average='macro') \n",
        "\n",
        "# decision tree\n",
        "Xtrain5 = cancer['data']\n",
        "ytrain5 = cancer['target']\n",
        "dtc = DecisionTreeClassifier()\n",
        "dtc.fit(Xtrain5,ytrain5)\n",
        "x_train5, x_test5, y_train5, y_test5 = train_test_split(Xtrain4,ytrain4, test_size = 0.3, random_state = 1)\n",
        "y_pred5 = dtc.predict(x_test5)\n",
        "\n",
        "accDT = accuracy_score(y_test5, y_pred5)\n",
        "preDT = metrics.precision_score(y_test5, y_pred5,average='macro')\n",
        "recallDT= metrics.recall_score(y_test5, y_pred5,average='macro')\n",
        "f1DT = metrics.f1_score(y_test5, y_pred5,average='macro') \n",
        "\n",
        "\n",
        "t = PrettyTable(['Name Metric measure','SVM Poly Kernel','Logistic Regression',\"KNN\",'Decision Tree'])\n",
        "t.add_row(['Accuracy',accSvm,accLog,accKnn,accDT])\n",
        "t.add_row(['Precision Score',preSvm,preLog,preKnn,preDT])\n",
        "t.add_row(['Recall Score',recallSvm,recallLog,recallKnn,recallDT])\n",
        "t.add_row(['F1',f1Svm,f1Log,f1Knn,f1DT])\n",
        "print(t)"
      ],
      "metadata": {
        "id": "_tK7GIx8s3iK",
        "colab": {
          "base_uri": "https://localhost:8080/"
        },
        "outputId": "c3a30056-d2b0-41b1-800a-ec8ff79a2544"
      },
      "execution_count": null,
      "outputs": [
        {
          "output_type": "stream",
          "name": "stderr",
          "text": [
            "/usr/local/lib/python3.9/dist-packages/sklearn/linear_model/_logistic.py:458: ConvergenceWarning: lbfgs failed to converge (status=1):\n",
            "STOP: TOTAL NO. of ITERATIONS REACHED LIMIT.\n",
            "\n",
            "Increase the number of iterations (max_iter) or scale the data as shown in:\n",
            "    https://scikit-learn.org/stable/modules/preprocessing.html\n",
            "Please also refer to the documentation for alternative solver options:\n",
            "    https://scikit-learn.org/stable/modules/linear_model.html#logistic-regression\n",
            "  n_iter_i = _check_optimize_result(\n"
          ]
        },
        {
          "output_type": "stream",
          "name": "stdout",
          "text": [
            "+---------------------+-----------------+---------------------+--------------------+---------------+\n",
            "| Name Metric measure | SVM Poly Kernel | Logistic Regression |        KNN         | Decision Tree |\n",
            "+---------------------+-----------------+---------------------+--------------------+---------------+\n",
            "|       Accuracy      |       1.0       |         1.0         | 0.9777777777777777 |      1.0      |\n",
            "|   Precision Score   |       1.0       |         1.0         | 0.9781161374204809 |      1.0      |\n",
            "|     Recall Score    |       1.0       |         1.0         | 0.9776054225716277 |      1.0      |\n",
            "|          F1         |       1.0       |         1.0         | 0.9775619349405023 |      1.0      |\n",
            "+---------------------+-----------------+---------------------+--------------------+---------------+\n"
          ]
        }
      ]
    },
    {
      "cell_type": "markdown",
      "source": [
        "#Task 4. \n",
        "Compare the performance of selected classification algorithms (Decision Tree, kNN, Logistic Regression) and SVM (using different kernels) with **credit card dataset** based on accuracy, precision, recall, f1 measures.\n",
        "\n",
        "*   Give some comments on the obtained results\n",
        "*   Identify issues with dataset, and propose the solutions to these issues\n",
        "\n"
      ],
      "metadata": {
        "id": "Z5pp7_h-aP2u"
      }
    },
    {
      "cell_type": "code",
      "source": [
        "# code\n",
        "# code\n",
        "from google.colab import drive\n",
        "drive.mount('/content/gdrive')\n",
        "%cd '/content/gdrive/MyDrive/ColabNotebooks'\n",
        "dataset=pd.read_csv(\"creditcard.csv\")"
      ],
      "metadata": {
        "id": "Rw_-8FIf2KxW",
        "colab": {
          "base_uri": "https://localhost:8080/"
        },
        "outputId": "b2a8f751-b481-475f-f7e6-47db062036ef"
      },
      "execution_count": null,
      "outputs": [
        {
          "output_type": "stream",
          "name": "stdout",
          "text": [
            "Drive already mounted at /content/gdrive; to attempt to forcibly remount, call drive.mount(\"/content/gdrive\", force_remount=True).\n",
            "/content/gdrive/MyDrive/ColabNotebooks\n"
          ]
        }
      ]
    },
    {
      "cell_type": "code",
      "source": [
        "train,validation, test = np.split(dataset.sample(frac=1), [int(.6*len(dataset)),\n",
        "int(.8*len(dataset))])\n",
        "\n",
        "X_train4 = train[[train.columns[i] for i in range(train.shape[1]-1) ]]\n",
        "Y_train4 = train[train.columns[-1]]\n",
        "# Assign the test split\n",
        "X_test4 = test[[test.columns[i] for i in range(train.shape[1]-1) ]]\n",
        "Y_test4 = test[test.columns[-1]]"
      ],
      "metadata": {
        "id": "oql7OQnZrgDq"
      },
      "execution_count": null,
      "outputs": []
    },
    {
      "cell_type": "code",
      "source": [
        "classifier4 = LogisticRegression(random_state = 0)\n",
        "classifier4.fit(X_train4, Y_train4) \n",
        "\n",
        "y_predReg4 = classifier4.predict(X_test4)\n",
        "\n",
        "preReg4=metrics.precision_score(Y_test4, y_predReg4,average='macro')\n",
        "recReg4=metrics.recall_score(Y_test4, y_predReg4,average=\"macro\")\n",
        "f1ScoreReg4=metrics.f1_score(Y_test4, y_predReg4,average=\"macro\")\n",
        "accReg4=accuracy_score(Y_test4, y_predReg4)"
      ],
      "metadata": {
        "id": "mz7AGm_rrhFA",
        "colab": {
          "base_uri": "https://localhost:8080/"
        },
        "outputId": "68ff5713-da3d-4fba-8775-f9255447908c"
      },
      "execution_count": null,
      "outputs": [
        {
          "output_type": "stream",
          "name": "stderr",
          "text": [
            "/usr/local/lib/python3.9/dist-packages/sklearn/linear_model/_logistic.py:458: ConvergenceWarning: lbfgs failed to converge (status=1):\n",
            "STOP: TOTAL NO. of ITERATIONS REACHED LIMIT.\n",
            "\n",
            "Increase the number of iterations (max_iter) or scale the data as shown in:\n",
            "    https://scikit-learn.org/stable/modules/preprocessing.html\n",
            "Please also refer to the documentation for alternative solver options:\n",
            "    https://scikit-learn.org/stable/modules/linear_model.html#logistic-regression\n",
            "  n_iter_i = _check_optimize_result(\n"
          ]
        }
      ]
    },
    {
      "cell_type": "code",
      "source": [
        "\n",
        "model4 = KNeighborsClassifier(n_neighbors=5)\n",
        "# Train the model using the training sets\n",
        "model4.fit(X_train4,Y_train4)\n",
        "#Predict Output\n",
        "y_predKNN4 = model4.predict(X_test4) \n",
        "\n",
        "preKNN4=metrics.precision_score(Y_test4, y_predKNN4,average='macro')\n",
        "recKNN4=metrics.recall_score(Y_test4, y_predKNN4,average=\"macro\")\n",
        "f1ScoreKNN4=metrics.f1_score(Y_test4, y_predKNN4,average=\"macro\")\n",
        "accKNN4=accuracy_score(Y_test4, y_predKNN4)"
      ],
      "metadata": {
        "id": "En4Lhscmrohf"
      },
      "execution_count": null,
      "outputs": []
    },
    {
      "cell_type": "code",
      "source": [
        "from sklearn import tree\n",
        "clf_modelDecisionTree4 = DecisionTreeClassifier(criterion=\"gini\", random_state=42,\n",
        "max_depth=3, min_samples_leaf=5)\n",
        "clf_modelDecisionTree4.fit(X_train4,Y_train4)\n",
        "# Plot decision tree\n",
        "tree.plot_tree(clf_modelDecisionTree4)\n",
        "\n",
        "y_predDecisionTree4 = clf_modelDecisionTree4.predict(X_test4)\n",
        "\n",
        "preDecisionTree4=metrics.precision_score(Y_test4, y_predDecisionTree4,average='macro')\n",
        "recDecisionTree4=metrics.recall_score(Y_test4, y_predDecisionTree4,average=\"macro\")\n",
        "f1ScoreDecisionTree4=metrics.f1_score(Y_test4, y_predDecisionTree4,average=\"macro\")\n",
        "accDecisionTree4=accuracy_score(Y_test4, y_predDecisionTree4)"
      ],
      "metadata": {
        "id": "NOX9Vo1LrhKp",
        "colab": {
          "base_uri": "https://localhost:8080/",
          "height": 248
        },
        "outputId": "f0cda407-cd25-4b72-8de2-b18d16bbaba2"
      },
      "execution_count": null,
      "outputs": [
        {
          "output_type": "display_data",
          "data": {
            "text/plain": [
              "<Figure size 432x288 with 1 Axes>"
            ],
            "image/png": "[encoded data removed]"
          },
          "metadata": {
            "needs_background": "light"
          }
        }
      ]
    },
    {
      "cell_type": "code",
      "source": [
        "clfLinear4 = svm.SVC(kernel='linear') # linear kernel\n",
        "clfLinear4.fit(X_train4, Y_train4)\n",
        "\n",
        "#Predict the response for test dataset\n",
        "y_predSVMLinear4 = clfLinear4.predict(X_test4)\n",
        "\n",
        "preSVMLinear4=metrics.precision_score(Y_test4, y_predSVMLinear4,average='macro')\n",
        "recSVMLinear4=metrics.recall_score(Y_test4, y_predSVMLinear4,average=\"macro\")\n",
        "f1ScoreSVMLinear4=metrics.f1_score(Y_test4, y_predSVMLinear4,average=\"macro\")\n",
        "accSVMLinear4=accuracy_score(Y_test4, y_predSVMLinear4)"
      ],
      "metadata": {
        "id": "bDqop6pprhQp"
      },
      "execution_count": null,
      "outputs": []
    },
    {
      "cell_type": "code",
      "source": [
        "\n",
        "t=PrettyTable(['Name metric mesura','Linear kernel','Logistic Regression','kNN','Decision Tree'])\n",
        "t.add_row(['Accuracy',accSVMLinear4,accReg4,accKNN4,accDecisionTree4])\n",
        "t.add_row(['Precision',preSVMLinear4,preReg4,preKNN4,preDecisionTree4])\n",
        "t.add_row(['Recall',recReg4,recReg4,recKNN4,recDecisionTree4])\n",
        "t.add_row(['F1 measures',f1ScoreSVMLinear4,f1ScoreReg4,f1ScoreKNN4,f1ScoreDecisionTree4])\n",
        "print(t)\n"
      ],
      "metadata": {
        "id": "XixYVHCrrwm4"
      },
      "execution_count": null,
      "outputs": []
    },
    {
      "cell_type": "markdown",
      "source": [
        "#Finally,\n",
        "Save a copy in your Github. Remember renaming the notebook."
      ],
      "metadata": {
        "id": "Ok7RGkea_b7n"
      }
    }
  ]
}